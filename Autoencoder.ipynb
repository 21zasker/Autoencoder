{
 "cells": [
  {
   "cell_type": "markdown",
   "metadata": {
    "id": "5Z5HMBAj_Afx"
   },
   "source": [
    "# Autoencoder implementation from scratch"
   ]
  },
  {
   "cell_type": "markdown",
   "metadata": {
    "id": "FzMLuIb0jxXW"
   },
   "source": [
    "<table class=\"tfo-notebook-buttons\" align=\"left\">\n",
    "  <td>\n",
    "    <a target=\"_blank\" href=\"https://colab.research.google.com/github/21zasker/Autoencoder/blob/master/Autoencoder.ipynb\"><img src=\"https://www.tensorflow.org/images/colab_logo_32px.png\" />Run in Google Colab</a>\n",
    "  </td>\n",
    "  <td>\n",
    "    <a target=\"_blank\" href=\"https://github.com/21zasker/Autoencoder/blob/master/Autoencoder.ipynb\"><img src=\"https://www.tensorflow.org/images/GitHub-Mark-32px.png\" />View source on GitHub</a>\n",
    "  </td>\n",
    "</table>"
   ]
  },
  {
   "cell_type": "markdown",
   "metadata": {
    "id": "44s6YzbF_wFC"
   },
   "source": [
    "This notebook showcases the implementation of an autoencoder neural network using the backpropagation algorithm with momentum, operating on 16x16 images to demonstrate its performance."
   ]
  },
  {
   "cell_type": "markdown",
   "metadata": {
    "id": "kkKCniHcgCdD"
   },
   "source": [
    "**What are autoencoders?**\n",
    "\n",
    "Autoencoders are a type of neural networks in which the output tries to resemble the input as much as possible. They are trained in an unsupervised manner and have an architecture of three components:\n",
    "\n",
    "* Encoder\n",
    "* Latent space\n",
    "* Decoder\n",
    "\n",
    "The **encoder** is responsible for compressing information into a smaller representation (**latent space**), and the **decoder** aims to reconstruct the original input from this latent space."
   ]
  },
  {
   "cell_type": "markdown",
   "metadata": {
    "id": "dDGeLmdlj-P6"
   },
   "source": [
    "**Backpropagation and momentum**\n",
    "\n",
    "In autoencoder training, we use backpropagation to minimize the gap between the reconstructed output and the original input. It works by adjusting weights through gradient descent and uses momentum to make this process smoother.It adds a fraction of the previous weight update to the current update, promoting a more stable convergence."
   ]
  },
  {
   "cell_type": "markdown",
   "metadata": {
    "id": "M-tETI3r_wNU"
   },
   "source": [
    "## Setup"
   ]
  },
  {
   "cell_type": "markdown",
   "metadata": {
    "id": "tX3i03ehAA4A"
   },
   "source": [
    "### Import libraries"
   ]
  },
  {
   "cell_type": "code",
   "execution_count": 9,
   "metadata": {
    "id": "9KvKMGng-3qm"
   },
   "outputs": [],
   "source": [
    "from urllib.request import urlopen\n",
    "import matplotlib.pyplot as plt\n",
    "from PIL import Image\n",
    "import numpy as np\n",
    "import random"
   ]
  },
  {
   "cell_type": "markdown",
   "metadata": {
    "id": "XzwjYlhPAOpX"
   },
   "source": [
    "### Resources"
   ]
  },
  {
   "cell_type": "markdown",
   "metadata": {
    "id": "aUKIL6oUnnnI"
   },
   "source": [
    "The `Resources` folder from the repository contains the images used in this notebook (All of them are 16x16)."
   ]
  },
  {
   "cell_type": "code",
   "execution_count": 10,
   "metadata": {
    "id": "6cF6BSE4AQa9"
   },
   "outputs": [],
   "source": [
    "# GitHub raw content URL for the images\n",
    "github_image_1 = 'https://raw.githubusercontent.com/21zasker/Autoencoder/main/Resources/chicken.png'\n",
    "github_image_2 = 'https://raw.githubusercontent.com/21zasker/Autoencoder/main/Resources/pill.png'\n",
    "github_image_3 = 'https://raw.githubusercontent.com/21zasker/Autoencoder/main/Resources/gato.png'\n",
    "\n",
    "# Open the images\n",
    "original_image1 = Image.open(urlopen(github_image_1)).convert(\"RGB\")\n",
    "original_image2 = Image.open(urlopen(github_image_2)).convert(\"RGB\")\n",
    "original_image3 = Image.open(urlopen(github_image_3)).convert(\"RGB\")\n",
    "\n",
    "original_images = [original_image1, original_image2, original_image3]\n",
    "\n",
    "# Get the width and height of the image\n",
    "width, height = original_image1.size\n",
    "\n",
    "# Convert the images to arrays and normalize pixel values to the range [0, 1]\n",
    "original_image_arrays = np.array([np.array(img) / 255.0 for img in original_images])"
   ]
  },
  {
   "cell_type": "markdown",
   "metadata": {
    "id": "oOvgeZcAFXeN"
   },
   "source": [
    "## Build, train and test the model"
   ]
  },
  {
   "cell_type": "markdown",
   "metadata": {
    "id": "CE-_4_k9FhWk"
   },
   "source": [
    "The model's architecture adopts a tensor structure, organizing the neural network into layers with dimensions specified by `input_neurons`, `hidden_neurons`, and `output_neurons`. The tensor, represented by `self.mlp`, encapsulates the values across these layers."
   ]
  },
  {
   "cell_type": "markdown",
   "metadata": {
    "id": "p3J_cGpWFiIL"
   },
   "source": [
    "### Build the model"
   ]
  },
  {
   "cell_type": "code",
   "execution_count": 11,
   "metadata": {
    "id": "Q6sbjGiPFd7X"
   },
   "outputs": [],
   "source": [
    "class MultilayerPerceptron:\n",
    "  def __init__(self, input_neurons_x, input_neurons_y, input_neurons_z,\n",
    "               hidden_neurons, dimensions, learning_rate, momentum_rate):\n",
    "\n",
    "    # Input neuorns made to fit an image with its 3 channels (RGB)\n",
    "    self.input_neurons = input_neurons_x * input_neurons_y * input_neurons_z\n",
    "    # Hidden neurons store the latent space after encoding\n",
    "    self.hidden_neurons = hidden_neurons * dimensions\n",
    "    # Output neurons store the decoded image\n",
    "    self.output_neurons = input_neurons_x * input_neurons_y * input_neurons_z\n",
    "    self.learning_rate = learning_rate\n",
    "    self.momentum_rate = momentum_rate\n",
    "\n",
    "    # AUTOENCODER STRUCTURE\n",
    "    self.mlp = [np.zeros(self.input_neurons)] + [np.zeros(self.hidden_neurons)\n",
    "    for _ in range(self.hidden_neurons)] + [np.zeros(self.output_neurons)]\n",
    "\n",
    "    # Randomly assigned weights\n",
    "    np.random.seed(0)\n",
    "    self.weights = [np.random.normal(-0.1, 0.1,\n",
    "     (self.mlp[i + 1].size,\n",
    "      self.mlp[i].size)) for i in range(len(self.mlp) - 1)]\n",
    "\n",
    "    # The errors of each layer will be stored here\n",
    "    self.errors = [np.zeros((weights.shape[0],)) for weights in self.weights]\n",
    "\n",
    "    # The weights before being updated will be stored here\n",
    "    self.previous_weights = [np.zeros(weights.shape) for weights in self.weights]\n",
    "\n",
    "  # FORWARD PROPAGATION:\n",
    "  # Does the encoder and decoder function by compressing input data (input layer)\n",
    "  # to latent space (hidden layer), then reconstructs the data (output layer)\n",
    "  def forward_propagation(self, input_data):\n",
    "    self.mlp[0] = input_data.flatten()\n",
    "\n",
    "    for i in range(len(self.weights)):\n",
    "      for j in range(self.weights[i].shape[0]):\n",
    "        weighted_sum = np.dot(self.mlp[i], self.weights[i][j])\n",
    "        self.mlp[i + 1][j] = self.sigmoid_function(False, weighted_sum)\n",
    "\n",
    "    return self.mlp[-1]\n",
    "\n",
    "  # BACKPROPAGATION:\n",
    "  # Compares the output image to the original image to get the errors from\n",
    "  # each layer and update the weights\n",
    "  def back_propagation(self, output_data):\n",
    "    output_data = output_data.flatten()\n",
    "    for i in reversed(range(1, len(self.mlp))):\n",
    "      for j in range(len(self.mlp[i])):\n",
    "        if i == len(self.mlp) - 1: # (Output layer)\n",
    "          self.errors[i - 1][j] = (self.mlp[i][j] - output_data[j])**3\n",
    "        else: #(Rest of the layers)\n",
    "          self.errors[i - 1][j] = np.dot(self.errors[i], self.weights[i][:, j])\n",
    "\n",
    "        # Recalculo de 'z'\n",
    "        z = np.dot(self.mlp[i - 1], self.weights[i - 1][j])\n",
    "\n",
    "        for k in range(len(self.mlp[i - 1])):\n",
    "          # Updated weights without momentum\n",
    "          weights_updates = (self.learning_rate * self.errors[i - 1][j] * self.mlp[i - 1][k] * self.sigmoid_function(True, z))\n",
    "\n",
    "          # Adds momentum to the updated weights\n",
    "          weights_updates += self.momentum_rate * self.previous_weights[i - 1][j][k]\n",
    "\n",
    "          # Saves the updated weights and the new previous weights\n",
    "          self.weights[i - 1][j][k] -= weights_updates\n",
    "          self.previous_weights[i - 1][j][k] = weights_updates\n",
    "\n",
    "  # Activation function and its derivative\n",
    "  def sigmoid_function(self, derivative, z):\n",
    "    sig = 1 / (1 + np.exp(-z))\n",
    "    return sig * (1 - sig) if derivative else sig\n",
    "\n",
    "  # TRAINING FUNCTION\n",
    "  def train(self, epochs, original_image_array):\n",
    "    for epoch in range(epochs):\n",
    "      stop_training = True\n",
    "\n",
    "      # Autoencoder\n",
    "      output = self.forward_propagation(original_image_array)\n",
    "      self.back_propagation(original_image_array)\n",
    "\n",
    "      # Early stop\n",
    "      if np.mean((output - original_image_array.flatten()) ** 2) > 0.001:\n",
    "        stop_training = False\n",
    "\n",
    "      if stop_training:\n",
    "        print(f\"Training finished in epoch {epoch + 1}\")\n",
    "        break\n",
    "\n",
    "  # TESTING FUNCTION\n",
    "  def test(self, original_image_array):\n",
    "    reconstructed_flat = self.forward_propagation(original_image_array)\n",
    "    reconstructed_image = (reconstructed_flat * 255).astype(int).reshape((height, width, 3))\n",
    "    return reconstructed_image"
   ]
  },
  {
   "cell_type": "markdown",
   "metadata": {
    "id": "KJXFfoDXZVH_"
   },
   "source": [
    "### Train and test the model"
   ]
  },
  {
   "cell_type": "markdown",
   "metadata": {
    "id": "3GHBtwSAaasA"
   },
   "source": [
    "Configure the autoencoder with parameters corresponding to the image width and height for the input neurons (`x`, `y`, and `z` representing the 3 RGB channels, so it has 3 `dimensions`). Additionally, set the number of hidden neurons and the learning and momentum rate."
   ]
  },
  {
   "cell_type": "code",
   "execution_count": 12,
   "metadata": {
    "id": "01N0gRF_ZXVl"
   },
   "outputs": [],
   "source": [
    "autoencoder = MultilayerPerceptron(input_neurons_x=width, input_neurons_y=height,\n",
    "                                   input_neurons_z=3, hidden_neurons=1, dimensions=3,\n",
    "                                   learning_rate=1, momentum_rate=0.954)"
   ]
  },
  {
   "cell_type": "markdown",
   "metadata": {
    "id": "3zsE7eVL5o0H"
   },
   "source": [
    "Then, train the autoencoder over several epochs and evaluate its performance by comparing the post-training decoded image with the original."
   ]
  },
  {
   "cell_type": "code",
   "execution_count": 13,
   "metadata": {
    "colab": {
     "base_uri": "https://localhost:8080/"
    },
    "id": "6a1BPJ022lAW",
    "outputId": "ee5d377d-b262-4237-af95-7c84858cdfab"
   },
   "outputs": [
    {
     "name": "stdout",
     "output_type": "stream",
     "text": [
      "Training finished in epoch 365\n"
     ]
    }
   ],
   "source": [
    "# Training\n",
    "autoencoder.train(epochs=800, original_image_array=original_image_arrays[0])\n",
    "\n",
    "# Create the reconstructed image\n",
    "reconstructed_image = autoencoder.test(original_image_array=original_image_arrays[0])"
   ]
  },
  {
   "cell_type": "code",
   "execution_count": 14,
   "metadata": {
    "id": "CihIt34tSTU4"
   },
   "outputs": [],
   "source": [
    "# Saves the reconstructed image to plot it with rest at the end\n",
    "reconstructed_images = []\n",
    "reconstructed_images.append(reconstructed_image)"
   ]
  },
  {
   "cell_type": "code",
   "execution_count": 15,
   "metadata": {
    "colab": {
     "base_uri": "https://localhost:8080/",
     "height": 407
    },
    "id": "7YpRGyXX2xUS",
    "outputId": "204f62d8-bd55-45ca-8866-70b2a566ebfe"
   },
   "outputs": [
    {
     "data": {
      "image/png": "[encoded data removed]",
      "text/plain": [
       "<Figure size 1000x400 with 2 Axes>"
      ]
     },
     "metadata": {},
     "output_type": "display_data"
    }
   ],
   "source": [
    "# Display the original image and the reconstructed image.\n",
    "plt.figure(figsize=(10, 4))\n",
    "\n",
    "plt.subplot(1, 2, 1)\n",
    "plt.imshow(original_images[0])\n",
    "plt.axis('off')\n",
    "plt.title('Original Image')\n",
    "\n",
    "plt.subplot(1, 2, 2)\n",
    "plt.imshow(reconstructed_image)\n",
    "plt.axis('off')\n",
    "plt.title('Reconstructed Image')\n",
    "\n",
    "plt.tight_layout()\n",
    "plt.show()"
   ]
  },
  {
   "cell_type": "markdown",
   "metadata": {
    "id": "09wBtIqeRjtj"
   },
   "source": [
    "## Results"
   ]
  },
  {
   "cell_type": "markdown",
   "metadata": {
    "id": "6J0edCB1Rqzq"
   },
   "source": [
    "Create another two autoencoders for the rest of the images and plot the complete results"
   ]
  },
  {
   "cell_type": "code",
   "execution_count": 16,
   "metadata": {
    "id": "dLTKmRCMR60i"
   },
   "outputs": [],
   "source": [
    "# Autoencoders for each image\n",
    "autoencoders = [\n",
    "    MultilayerPerceptron(input_neurons_x=width, input_neurons_y=height, input_neurons_z=3,\n",
    "                         hidden_neurons=1, dimensions=3, learning_rate=1, momentum_rate=0.954),\n",
    "    MultilayerPerceptron(input_neurons_x=width, input_neurons_y=height, input_neurons_z=3,\n",
    "                         hidden_neurons=1, dimensions=3, learning_rate=1, momentum_rate=0.954)\n",
    "]"
   ]
  },
  {
   "cell_type": "code",
   "execution_count": 17,
   "metadata": {
    "colab": {
     "base_uri": "https://localhost:8080/"
    },
    "id": "6oDjtZG4SBaF",
    "outputId": "276323b0-8bf1-40f2-968e-5481c3a9dc44"
   },
   "outputs": [
    {
     "name": "stdout",
     "output_type": "stream",
     "text": [
      "Training finished in epoch 42\n"
     ]
    }
   ],
   "source": [
    "# Training the new autoencoder\n",
    "autoencoders[0].train(epochs=800, original_image_array=original_image_arrays[1])\n",
    "autoencoders[1].train(epochs=800, original_image_array=original_image_arrays[2])"
   ]
  },
  {
   "cell_type": "code",
   "execution_count": 18,
   "metadata": {
    "id": "zTNl_r-HSGMp"
   },
   "outputs": [],
   "source": [
    "# Add the reconstructed images to the list\n",
    "reconstructed_images.append(autoencoders[0].test(original_image_array=original_image_arrays[1]))\n",
    "reconstructed_images.append(autoencoders[1].test(original_image_array=original_image_arrays[2]))"
   ]
  },
  {
   "cell_type": "code",
   "execution_count": 19,
   "metadata": {
    "colab": {
     "base_uri": "https://localhost:8080/",
     "height": 821
    },
    "id": "Y_slitOySNl_",
    "outputId": "0361130d-2861-47f4-8bac-a717419b89ee"
   },
   "outputs": [
    {
     "data": {
      "image/png": "[encoded data removed]",
      "text/plain": [
       "<Figure size 1500x1000 with 6 Axes>"
      ]
     },
     "metadata": {},
     "output_type": "display_data"
    }
   ],
   "source": [
    "# Plot original images in the first row\n",
    "plt.figure(figsize=(15, 10))\n",
    "\n",
    "for i in range(3):\n",
    "    plt.subplot(2, 3, i + 1)\n",
    "    plt.imshow(original_images[i])\n",
    "    plt.title(f'Original {i + 1}')\n",
    "    plt.axis('off')\n",
    "\n",
    "# Plot recovered images in the second row\n",
    "for i in range(3):\n",
    "    plt.subplot(2, 3, i + 4)\n",
    "    plt.imshow(reconstructed_images[i])\n",
    "    plt.title(f'Reconstructed {i + 1}')\n",
    "    plt.axis('off')\n",
    "\n",
    "plt.show()"
   ]
  }
 ],
 "metadata": {
  "colab": {
   "provenance": []
  },
  "kernelspec": {
   "display_name": "Python 3 (ipykernel)",
   "language": "python",
   "name": "python3"
  },
  "language_info": {
   "codemirror_mode": {
    "name": "ipython",
    "version": 3
   },
   "file_extension": ".py",
   "mimetype": "text/x-python",
   "name": "python",
   "nbconvert_exporter": "python",
   "pygments_lexer": "ipython3",
   "version": "3.11.7"
  }
 },
 "nbformat": 4,
 "nbformat_minor": 1
}
